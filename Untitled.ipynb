{
 "cells": [
  {
   "cell_type": "code",
   "execution_count": 1,
   "id": "a33c4066-a475-467d-84b4-bb300dacb36d",
   "metadata": {},
   "outputs": [],
   "source": [
    "import pandas as pd"
   ]
  },
  {
   "cell_type": "code",
   "execution_count": 3,
   "id": "88411447-4e3f-418c-b491-6388878e372c",
   "metadata": {},
   "outputs": [],
   "source": [
    "df = pd.read_csv('Fintech BB Reachout list.csv')"
   ]
  },
  {
   "cell_type": "code",
   "execution_count": 4,
   "id": "e40d34d8-3c0d-4f37-b6ee-455acce96229",
   "metadata": {},
   "outputs": [
    {
     "data": {
      "text/plain": [
       "Index(['Date', 'First name', 'Last name', 'User', 'Work email', 'Confidence',\n",
       "       'Direct email', 'Confidence.1', 'Additional email 1', 'Confidence.2',\n",
       "       'Additional email 2', 'Confidence.3', 'Phone 1', 'Phone 1 type',\n",
       "       'Phone 2', 'Phone 2 type', 'Job title', 'Seniority', 'Departments',\n",
       "       'Linkedin URL', 'Continent', 'Country', 'State', 'City', 'Country ISO',\n",
       "       'Tags', 'Company name', 'Company domain', 'Company description',\n",
       "       'Company year founded', 'Company website',\n",
       "       'Company number of employees', 'Company revenue',\n",
       "       'Total funding amount', 'Total number of rounds',\n",
       "       'Last round/event amount', 'Last round/event type',\n",
       "       'Last round/event date', 'IPO', 'IPO Date', 'Company Linkedin URL',\n",
       "       'Company country', 'Company state', 'Company city', 'Company street',\n",
       "       'Company main industry', 'Company sub industry', 'Company SIC',\n",
       "       'Company NAIC', 'Company specialities',\n",
       "       'Company number of intent topics', 'Company intent topics',\n",
       "       'Company intent average score'],\n",
       "      dtype='object')"
      ]
     },
     "execution_count": 4,
     "metadata": {},
     "output_type": "execute_result"
    }
   ],
   "source": [
    "df.columns"
   ]
  },
  {
   "cell_type": "code",
   "execution_count": 5,
   "id": "fe096336-ea51-4fa7-bf5b-e40646e03051",
   "metadata": {},
   "outputs": [
    {
     "data": {
      "text/plain": [
       "0          www.jupiter.money\n",
       "1          www.bhartiaxa.com\n",
       "2               www.boimf.in\n",
       "3         www.gopaysense.com\n",
       "4             www.sudlife.in\n",
       "5      www.idfcfirstbank.com\n",
       "6      www.idfcfirstbank.com\n",
       "7        www.paywithring.com\n",
       "8             www.kissht.com\n",
       "9           www.pinelabs.com\n",
       "10          www.hdfcfund.com\n",
       "11          www.kreditbee.in\n",
       "12            www.plumhq.com\n",
       "13    www.prodigyfinance.com\n",
       "14        www.turtlemint.com\n",
       "15       www.fincarebank.com\n",
       "16             www.kotak.com\n",
       "17     app.vestedfinance.com\n",
       "18              www.aavas.in\n",
       "19         www.decentro.tech\n",
       "20            www.mpokket.in\n",
       "21          www.moneyview.in\n",
       "22       www.bandhanlife.com\n",
       "23      www.iciciprulife.com\n",
       "Name: Company domain, dtype: object"
      ]
     },
     "execution_count": 5,
     "metadata": {},
     "output_type": "execute_result"
    }
   ],
   "source": [
    "df['Company domain']"
   ]
  },
  {
   "cell_type": "code",
   "execution_count": 7,
   "id": "5180a41d-6674-4685-b807-4d17d77d9770",
   "metadata": {},
   "outputs": [
    {
     "data": {
      "text/plain": [
       "'Jupiter is an all things money app with one simple aim – to deliver a financial experience that keeps pace with you. We help you cut through the jargons, offer smart insights based on your spending, and provide you with a range of new-age features to enable you to make sense of your finances.'"
      ]
     },
     "execution_count": 7,
     "metadata": {},
     "output_type": "execute_result"
    }
   ],
   "source": [
    "df['Company description'][0]"
   ]
  },
  {
   "cell_type": "code",
   "execution_count": null,
   "id": "e6399108-d8a7-427f-afaa-44646ddae6a4",
   "metadata": {},
   "outputs": [],
   "source": []
  },
  {
   "cell_type": "code",
   "execution_count": null,
   "id": "092e4123-703e-4a31-9107-4ddbb93ea68a",
   "metadata": {},
   "outputs": [],
   "source": []
  },
  {
   "cell_type": "code",
   "execution_count": 8,
   "id": "6e7099b2-94d1-4322-bd29-5117e73ba50e",
   "metadata": {},
   "outputs": [],
   "source": [
    "import smtplib\n",
    "from email.mime.multipart import MIMEMultipart\n",
    "from email.mime.text import MIMEText\n",
    "\n",
    "\n",
    "# Email configuration\n",
    "smtp_server = 'smtp.gmail.com'\n",
    "smtp_port = 587\n",
    "smtp_user = 'your_email@gmail.com'\n",
    "smtp_password = 'your_password'\n",
    "\n",
    "\n",
    "# Function to send an email\n",
    "def send_email(to_address, subject, body):\n",
    "    msg = MIMEMultipart()\n",
    "    msg['From'] = smtp_user\n",
    "    msg['To'] = to_address\n",
    "    msg['Subject'] = subject\n",
    "    body += \"Whatever your signature is ### End of Signature\" \n",
    "    msg.attach(MIMEText(body, 'plain'))\n",
    "    \n",
    "    with smtplib.SMTP(smtp_server, smtp_port) as server:\n",
    "        server.starttls()\n",
    "        server.login(smtp_user, smtp_password)\n",
    "        yorn = str(input(f\"Here's the BODY \\n {body}\\n Do you want to send it?\"))\n",
    "        if yorn == 'y':       \n",
    "            server.send_message(msg)\n",
    "            return True\n",
    "        else:\n",
    "            return False\n",
    "\n",
    "\n",
    "\n",
    "for index, row in df.iterrows():\n",
    "    to_address = row['Work email']\n",
    "    email_body = row['Email']\n",
    "    subject = "
   ]
  },
  {
   "cell_type": "code",
   "execution_count": null,
   "id": "d8642d07-f488-4888-9cf2-13b540dc78cc",
   "metadata": {},
   "outputs": [],
   "source": []
  }
 ],
 "metadata": {
  "kernelspec": {
   "display_name": "Python 3 (ipykernel)",
   "language": "python",
   "name": "python3"
  },
  "language_info": {
   "codemirror_mode": {
    "name": "ipython",
    "version": 3
   },
   "file_extension": ".py",
   "mimetype": "text/x-python",
   "name": "python",
   "nbconvert_exporter": "python",
   "pygments_lexer": "ipython3",
   "version": "3.10.12"
  }
 },
 "nbformat": 4,
 "nbformat_minor": 5
}
